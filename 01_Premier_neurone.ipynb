{
 "cells": [
  {
   "cell_type": "markdown",
   "source": [
    "# MachineLearnia Vidéo 5 - Premier Neurone"
   ],
   "metadata": {
    "collapsed": false,
    "pycharm": {
     "name": "#%% md\n"
    }
   }
  },
  {
   "cell_type": "code",
   "execution_count": 3,
   "outputs": [],
   "source": [
    "import numpy as np\n",
    "import matplotlib.pyplot as plt\n",
    "from sklearn.datasets import make_blobs"
   ],
   "metadata": {
    "collapsed": false,
    "pycharm": {
     "name": "#%%\n"
    }
   }
  },
  {
   "cell_type": "markdown",
   "source": [
    "# 1. Dataset"
   ],
   "metadata": {
    "collapsed": false,
    "pycharm": {
     "name": "#%% md\n"
    }
   }
  },
  {
   "cell_type": "code",
   "execution_count": 4,
   "outputs": [
    {
     "name": "stdout",
     "output_type": "stream",
     "text": [
      "dimensions de X: (100, 2)\n",
      "dimensions de y: (100, 1)\n"
     ]
    },
    {
     "data": {
      "text/plain": "<Figure size 432x288 with 1 Axes>",
      "image/png": "[encoded data removed]"
     },
     "metadata": {
      "needs_background": "light"
     },
     "output_type": "display_data"
    }
   ],
   "source": [
    "X, y = make_blobs(n_samples=100, n_features=2, centers=2, random_state=0)\n",
    "y = y.reshape((y.shape[0], 1))\n",
    "\n",
    "print('dimensions de X:', X.shape)\n",
    "print('dimensions de y:', y.shape)\n",
    "\n",
    "plt.scatter(X[:,0], X[:, 1], c=y, cmap='summer')\n",
    "plt.show()"
   ],
   "metadata": {
    "collapsed": false,
    "pycharm": {
     "name": "#%%\n"
    }
   }
  },
  {
   "cell_type": "markdown",
   "source": [
    "# 2. Fonctions du modele"
   ],
   "metadata": {
    "collapsed": false,
    "pycharm": {
     "name": "#%% md\n"
    }
   }
  },
  {
   "cell_type": "code",
   "execution_count": 20,
   "outputs": [
    {
     "name": "stdout",
     "output_type": "stream",
     "text": [
      "(2, 1)\n",
      "[0.09085215]\n"
     ]
    }
   ],
   "source": [
    "def initialisation(X):\n",
    "    W = np.random.randn(X.shape[1], 1)\n",
    "    b = np.random.randn(1)\n",
    "    return (W, b)\n",
    "\n",
    "#W ,b = initialisation(X)\n",
    "#print(W.shape)\n",
    "#print(b)\n"
   ],
   "metadata": {
    "collapsed": false,
    "pycharm": {
     "name": "#%%\n"
    }
   }
  },
  {
   "cell_type": "code",
   "execution_count": 21,
   "outputs": [
    {
     "name": "stdout",
     "output_type": "stream",
     "text": [
      "(100, 1)\n"
     ]
    }
   ],
   "source": [
    "def model(X, W, b):\n",
    "    Z = X.dot(W) + b\n",
    "    A = 1 / (1 + np.exp(-Z))\n",
    "    return A\n",
    "\n",
    "#A= model(X, W, b)\n",
    "#print(A.shape)"
   ],
   "metadata": {
    "collapsed": false,
    "pycharm": {
     "name": "#%%\n"
    }
   }
  },
  {
   "cell_type": "code",
   "execution_count": 22,
   "outputs": [
    {
     "name": "stdout",
     "output_type": "stream",
     "text": [
      "1.3695258055062027\n"
     ]
    }
   ],
   "source": [
    "def log_loss(A, y):\n",
    "    return 1 / len(y) * np.sum(-y * np.log(A) - (1 - y) * np.log(1 - A))\n",
    "\n",
    "# print(log_loss(A,y))"
   ],
   "metadata": {
    "collapsed": false,
    "pycharm": {
     "name": "#%%\n"
    }
   }
  },
  {
   "cell_type": "code",
   "execution_count": 8,
   "outputs": [],
   "source": [
    "def gradients(A, X, y):\n",
    "    dW = 1 / len(y) * np.dot(X.T, A - y)\n",
    "    db = 1 / len(y) * np.sum(A - y)\n",
    "    return (dW, db)"
   ],
   "metadata": {
    "collapsed": false,
    "pycharm": {
     "name": "#%%\n"
    }
   }
  },
  {
   "cell_type": "code",
   "execution_count": 9,
   "outputs": [],
   "source": [
    "def update(dW, db, W, b, learning_rate):\n",
    "    W = W - learning_rate * dW\n",
    "    b = b - learning_rate * db\n",
    "    return (W, b)"
   ],
   "metadata": {
    "collapsed": false,
    "pycharm": {
     "name": "#%%\n"
    }
   }
  },
  {
   "cell_type": "code",
   "execution_count": 10,
   "outputs": [],
   "source": [
    "def predict(X, W, b):\n",
    "    A = model(X, W, b)\n",
    "    # print(A)\n",
    "    return A >= 0.5"
   ],
   "metadata": {
    "collapsed": false,
    "pycharm": {
     "name": "#%%\n"
    }
   }
  },
  {
   "cell_type": "code",
   "execution_count": 11,
   "outputs": [],
   "source": [
    "from sklearn.metrics import accuracy_score"
   ],
   "metadata": {
    "collapsed": false,
    "pycharm": {
     "name": "#%%\n"
    }
   }
  },
  {
   "cell_type": "code",
   "execution_count": 12,
   "outputs": [],
   "source": [
    "def artificial_neuron(X, y, learning_rate = 0.1, n_iter = 100):\n",
    "    # initialisation W, b\n",
    "    W, b = initialisation(X)\n",
    "\n",
    "    Loss = []\n",
    "\n",
    "    for i in range(n_iter):\n",
    "        A = model(X, W, b)\n",
    "        Loss.append(log_loss(A, y))\n",
    "        dW, db = gradients(A, X, y)\n",
    "        W, b = update(dW, db, W, b, learning_rate)\n",
    "\n",
    "    y_pred = predict(X, W, b)\n",
    "    print(accuracy_score(y, y_pred))\n",
    "\n",
    "    plt.plot(Loss)\n",
    "    plt.show()\n",
    "\n",
    "    return (W, b)\n"
   ],
   "metadata": {
    "collapsed": false,
    "pycharm": {
     "name": "#%%\n"
    }
   }
  },
  {
   "cell_type": "code",
   "execution_count": 13,
   "outputs": [
    {
     "name": "stdout",
     "output_type": "stream",
     "text": [
      "0.89\n"
     ]
    },
    {
     "data": {
      "text/plain": "<Figure size 432x288 with 1 Axes>",
      "image/png": "[encoded data removed]"
     },
     "metadata": {
      "needs_background": "light"
     },
     "output_type": "display_data"
    }
   ],
   "source": [
    "W, b = artificial_neuron(X, y)"
   ],
   "metadata": {
    "collapsed": false,
    "pycharm": {
     "name": "#%%\n"
    }
   }
  },
  {
   "cell_type": "markdown",
   "source": [
    "# 3. Frontiere de décision"
   ],
   "metadata": {
    "collapsed": false,
    "pycharm": {
     "name": "#%% md\n"
    }
   }
  },
  {
   "cell_type": "code",
   "execution_count": 14,
   "outputs": [
    {
     "data": {
      "text/plain": "[<matplotlib.lines.Line2D at 0x7efe695a2760>]"
     },
     "execution_count": 14,
     "metadata": {},
     "output_type": "execute_result"
    },
    {
     "data": {
      "text/plain": "<Figure size 648x432 with 1 Axes>",
      "image/png": "[encoded data removed]"
     },
     "metadata": {
      "needs_background": "light"
     },
     "output_type": "display_data"
    }
   ],
   "source": [
    "fig, ax = plt.subplots(figsize=(9, 6))\n",
    "ax.scatter(X[:,0], X[:, 1], c=y, cmap='summer')\n",
    "\n",
    "x1 = np.linspace(-1, 4, 100)\n",
    "x2 = ( - W[0] * x1 - b) / W[1]\n",
    "\n",
    "ax.plot(x1, x2, c='orange', lw=3)"
   ],
   "metadata": {
    "collapsed": false,
    "pycharm": {
     "name": "#%%\n"
    }
   }
  },
  {
   "cell_type": "markdown",
   "source": [
    "# 4. Visualisations 3D"
   ],
   "metadata": {
    "collapsed": false,
    "pycharm": {
     "name": "#%% md\n"
    }
   }
  },
  {
   "cell_type": "code",
   "execution_count": 16,
   "outputs": [],
   "source": [
    "import plotly.graph_objects as go"
   ],
   "metadata": {
    "collapsed": false,
    "pycharm": {
     "name": "#%%\n"
    }
   }
  },
  {
   "cell_type": "code",
   "execution_count": null,
   "outputs": [],
   "source": [
    "fig = go.Figure(data=[go.Scatter3d(\n",
    "    x=X[:, 0].flatten(),\n",
    "    y=X[:, 1].flatten(),\n",
    "    z=y.flatten(),\n",
    "    mode='markers',\n",
    "    marker=dict(\n",
    "        size=5,\n",
    "        color=y.flatten(),\n",
    "        colorscale='YlGn',\n",
    "        opacity=0.8,\n",
    "        reversescale=True\n",
    "    )\n",
    ")])\n",
    "\n",
    "fig.update_layout(template= \"plotly_dark\", margin=dict(l=0, r=0, b=0, t=0))\n",
    "fig.layout.scene.camera.projection.type = \"orthographic\"\n",
    "fig.show()"
   ],
   "metadata": {
    "collapsed": false,
    "pycharm": {
     "name": "#%%\n"
    }
   }
  },
  {
   "cell_type": "code",
   "execution_count": null,
   "outputs": [],
   "source": [
    "X0 = np.linspace(X[:, 0].min(), X[:, 0].max(), 100)\n",
    "X1 = np.linspace(X[:, 1].min(), X[:, 1].max(), 100)\n",
    "xx0, xx1 = np.meshgrid(X0, X1)\n",
    "Z = W[0] * xx0 + W[1] * xx1 + b\n",
    "A = 1 / (1 + np.exp(-Z))\n",
    "\n",
    "fig = (go.Figure(data=[go.Surface(z=A, x=xx0, y=xx1, colorscale='YlGn', opacity = 0.7, reversescale=True)]))\n",
    "\n",
    "fig.add_scatter3d(x=X[:, 0].flatten(), y=X[:, 1].flatten(), z=y.flatten(), mode='markers', marker=dict(size=5, color=y.flatten(), colorscale='YlGn', opacity = 0.9, reversescale=True))\n",
    "\n",
    "\n",
    "fig.update_layout(template= \"plotly_dark\", margin=dict(l=0, r=0, b=0, t=0))\n",
    "fig.layout.scene.camera.projection.type = \"orthographic\"\n",
    "fig.show()\n"
   ],
   "metadata": {
    "collapsed": false,
    "pycharm": {
     "name": "#%%\n"
    }
   }
  },
  {
   "cell_type": "markdown",
   "source": [
    "# Exercice - Cat vs Dog"
   ],
   "metadata": {
    "collapsed": false,
    "pycharm": {
     "name": "#%% md\n"
    }
   }
  },
  {
   "cell_type": "code",
   "execution_count": null,
   "outputs": [],
   "source": [
    "!pip install h5py # h5py vous permet d'ouvrir les fichiers au format hdf5. N'oubliez pas de l'installer !\n",
    "from utilities import *"
   ],
   "metadata": {
    "collapsed": false,
    "pycharm": {
     "name": "#%%\n"
    }
   }
  },
  {
   "cell_type": "code",
   "execution_count": null,
   "outputs": [],
   "source": [
    "X_train, y_train, X_test, y_test = load_data()"
   ],
   "metadata": {
    "collapsed": false,
    "pycharm": {
     "name": "#%%\n"
    }
   }
  },
  {
   "cell_type": "code",
   "execution_count": null,
   "outputs": [],
   "source": [
    "print(X_train.shape)\n",
    "print(y_train.shape)\n",
    "print(np.unique(y_train, return_counts=True))"
   ],
   "metadata": {
    "collapsed": false,
    "pycharm": {
     "name": "#%%\n"
    }
   }
  },
  {
   "cell_type": "code",
   "execution_count": null,
   "outputs": [],
   "source": [
    "print(X_test.shape)\n",
    "print(y_test.shape)\n",
    "print(np.unique(y_test, return_counts=True))"
   ],
   "metadata": {
    "collapsed": false,
    "pycharm": {
     "name": "#%%\n"
    }
   }
  },
  {
   "cell_type": "code",
   "execution_count": null,
   "outputs": [],
   "source": [
    "plt.figure(figsize=(16, 8))\n",
    "for i in range(1, 10):\n",
    "    plt.subplot(4, 5, i)\n",
    "    plt.imshow(X_train[i], cmap='gray')\n",
    "    plt.title(y_train[i])\n",
    "    plt.tight_layout()\n",
    "plt.show()"
   ],
   "metadata": {
    "collapsed": false,
    "pycharm": {
     "name": "#%%\n"
    }
   }
  },
  {
   "cell_type": "code",
   "execution_count": null,
   "outputs": [],
   "source": [
    "# TO DO\n",
    "# 1. Normaliser le train_set et le test_set (0-255 -> 0-1)\n",
    "# 2. flatten() les variables du train_set et du test_set (64x64 -> 4096)\n",
    "# 3. Entrainer le modele sur le train_set (tracer la courbe d'apprentissage, trouver les bons hyper-params)\n",
    "# (si vous rencontrez un probleme avec le log_loss, utiliser la fonction de sklearn a la place !)\n",
    "# 4. Évaluer le modele sur le test_set (tracer également la courbe de Loss pour le test_set)\n",
    "# 5. Partager vos conclusions dans les commentaires !\n"
   ],
   "metadata": {
    "collapsed": false,
    "pycharm": {
     "name": "#%%\n"
    }
   }
  }
 ],
 "metadata": {
  "interpreter": {
   "hash": "038c04557dfd72b4d6039cb7951b93ffe7520921b6515cb88d8784deedfaf89f"
  },
  "kernelspec": {
   "display_name": "Python 3.7.9 64-bit ('base': conda)",
   "name": "python3"
  },
  "language_info": {
   "codemirror_mode": {
    "name": "ipython",
    "version": 3
   },
   "file_extension": ".py",
   "mimetype": "text/x-python",
   "name": "python",
   "nbconvert_exporter": "python",
   "pygments_lexer": "ipython3",
   "version": "3.7.9"
  },
  "orig_nbformat": 4
 },
 "nbformat": 4,
 "nbformat_minor": 2
}